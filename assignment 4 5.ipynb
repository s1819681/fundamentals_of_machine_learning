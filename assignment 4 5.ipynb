{
 "cells": [
  {
   "cell_type": "markdown",
   "id": "fc69567b",
   "metadata": {},
   "source": [
    "# 1. Introduction\n",
    "\n",
    "This notebook explores a speed dating dataset from Kaggle and in the end tries to predict the decision a partner makes at the event (yes or no to a date)"
   ]
  },
  {
   "cell_type": "markdown",
   "id": "85dbaa13",
   "metadata": {},
   "source": [
    "## Setup\n"
   ]
  },
  {
   "cell_type": "code",
   "execution_count": 18,
   "id": "23b84759",
   "metadata": {},
   "outputs": [
    {
     "data": {
      "text/html": [
       "<div>\n",
       "<style scoped>\n",
       "    .dataframe tbody tr th:only-of-type {\n",
       "        vertical-align: middle;\n",
       "    }\n",
       "\n",
       "    .dataframe tbody tr th {\n",
       "        vertical-align: top;\n",
       "    }\n",
       "\n",
       "    .dataframe thead th {\n",
       "        text-align: right;\n",
       "    }\n",
       "</style>\n",
       "<table border=\"1\" class=\"dataframe\">\n",
       "  <thead>\n",
       "    <tr style=\"text-align: right;\">\n",
       "      <th></th>\n",
       "      <th>iid</th>\n",
       "      <th>id</th>\n",
       "      <th>gender</th>\n",
       "      <th>idg</th>\n",
       "      <th>condtn</th>\n",
       "      <th>wave</th>\n",
       "      <th>round</th>\n",
       "      <th>position</th>\n",
       "      <th>positin1</th>\n",
       "      <th>order</th>\n",
       "      <th>...</th>\n",
       "      <th>attr3_3</th>\n",
       "      <th>sinc3_3</th>\n",
       "      <th>intel3_3</th>\n",
       "      <th>fun3_3</th>\n",
       "      <th>amb3_3</th>\n",
       "      <th>attr5_3</th>\n",
       "      <th>sinc5_3</th>\n",
       "      <th>intel5_3</th>\n",
       "      <th>fun5_3</th>\n",
       "      <th>amb5_3</th>\n",
       "    </tr>\n",
       "  </thead>\n",
       "  <tbody>\n",
       "    <tr>\n",
       "      <th>0</th>\n",
       "      <td>1</td>\n",
       "      <td>1.0</td>\n",
       "      <td>0</td>\n",
       "      <td>1</td>\n",
       "      <td>1</td>\n",
       "      <td>1</td>\n",
       "      <td>10</td>\n",
       "      <td>7</td>\n",
       "      <td>NaN</td>\n",
       "      <td>4</td>\n",
       "      <td>...</td>\n",
       "      <td>5.0</td>\n",
       "      <td>7.0</td>\n",
       "      <td>7.0</td>\n",
       "      <td>7.0</td>\n",
       "      <td>7.0</td>\n",
       "      <td>NaN</td>\n",
       "      <td>NaN</td>\n",
       "      <td>NaN</td>\n",
       "      <td>NaN</td>\n",
       "      <td>NaN</td>\n",
       "    </tr>\n",
       "    <tr>\n",
       "      <th>1</th>\n",
       "      <td>1</td>\n",
       "      <td>1.0</td>\n",
       "      <td>0</td>\n",
       "      <td>1</td>\n",
       "      <td>1</td>\n",
       "      <td>1</td>\n",
       "      <td>10</td>\n",
       "      <td>7</td>\n",
       "      <td>NaN</td>\n",
       "      <td>3</td>\n",
       "      <td>...</td>\n",
       "      <td>5.0</td>\n",
       "      <td>7.0</td>\n",
       "      <td>7.0</td>\n",
       "      <td>7.0</td>\n",
       "      <td>7.0</td>\n",
       "      <td>NaN</td>\n",
       "      <td>NaN</td>\n",
       "      <td>NaN</td>\n",
       "      <td>NaN</td>\n",
       "      <td>NaN</td>\n",
       "    </tr>\n",
       "    <tr>\n",
       "      <th>2</th>\n",
       "      <td>1</td>\n",
       "      <td>1.0</td>\n",
       "      <td>0</td>\n",
       "      <td>1</td>\n",
       "      <td>1</td>\n",
       "      <td>1</td>\n",
       "      <td>10</td>\n",
       "      <td>7</td>\n",
       "      <td>NaN</td>\n",
       "      <td>10</td>\n",
       "      <td>...</td>\n",
       "      <td>5.0</td>\n",
       "      <td>7.0</td>\n",
       "      <td>7.0</td>\n",
       "      <td>7.0</td>\n",
       "      <td>7.0</td>\n",
       "      <td>NaN</td>\n",
       "      <td>NaN</td>\n",
       "      <td>NaN</td>\n",
       "      <td>NaN</td>\n",
       "      <td>NaN</td>\n",
       "    </tr>\n",
       "    <tr>\n",
       "      <th>3</th>\n",
       "      <td>1</td>\n",
       "      <td>1.0</td>\n",
       "      <td>0</td>\n",
       "      <td>1</td>\n",
       "      <td>1</td>\n",
       "      <td>1</td>\n",
       "      <td>10</td>\n",
       "      <td>7</td>\n",
       "      <td>NaN</td>\n",
       "      <td>5</td>\n",
       "      <td>...</td>\n",
       "      <td>5.0</td>\n",
       "      <td>7.0</td>\n",
       "      <td>7.0</td>\n",
       "      <td>7.0</td>\n",
       "      <td>7.0</td>\n",
       "      <td>NaN</td>\n",
       "      <td>NaN</td>\n",
       "      <td>NaN</td>\n",
       "      <td>NaN</td>\n",
       "      <td>NaN</td>\n",
       "    </tr>\n",
       "    <tr>\n",
       "      <th>4</th>\n",
       "      <td>1</td>\n",
       "      <td>1.0</td>\n",
       "      <td>0</td>\n",
       "      <td>1</td>\n",
       "      <td>1</td>\n",
       "      <td>1</td>\n",
       "      <td>10</td>\n",
       "      <td>7</td>\n",
       "      <td>NaN</td>\n",
       "      <td>7</td>\n",
       "      <td>...</td>\n",
       "      <td>5.0</td>\n",
       "      <td>7.0</td>\n",
       "      <td>7.0</td>\n",
       "      <td>7.0</td>\n",
       "      <td>7.0</td>\n",
       "      <td>NaN</td>\n",
       "      <td>NaN</td>\n",
       "      <td>NaN</td>\n",
       "      <td>NaN</td>\n",
       "      <td>NaN</td>\n",
       "    </tr>\n",
       "  </tbody>\n",
       "</table>\n",
       "<p>5 rows × 195 columns</p>\n",
       "</div>"
      ],
      "text/plain": [
       "   iid   id  gender  idg  condtn  wave  round  position  positin1  order  ...  \\\n",
       "0    1  1.0       0    1       1     1     10         7       NaN      4  ...   \n",
       "1    1  1.0       0    1       1     1     10         7       NaN      3  ...   \n",
       "2    1  1.0       0    1       1     1     10         7       NaN     10  ...   \n",
       "3    1  1.0       0    1       1     1     10         7       NaN      5  ...   \n",
       "4    1  1.0       0    1       1     1     10         7       NaN      7  ...   \n",
       "\n",
       "   attr3_3  sinc3_3  intel3_3  fun3_3  amb3_3  attr5_3  sinc5_3  intel5_3  \\\n",
       "0      5.0      7.0       7.0     7.0     7.0      NaN      NaN       NaN   \n",
       "1      5.0      7.0       7.0     7.0     7.0      NaN      NaN       NaN   \n",
       "2      5.0      7.0       7.0     7.0     7.0      NaN      NaN       NaN   \n",
       "3      5.0      7.0       7.0     7.0     7.0      NaN      NaN       NaN   \n",
       "4      5.0      7.0       7.0     7.0     7.0      NaN      NaN       NaN   \n",
       "\n",
       "   fun5_3  amb5_3  \n",
       "0     NaN     NaN  \n",
       "1     NaN     NaN  \n",
       "2     NaN     NaN  \n",
       "3     NaN     NaN  \n",
       "4     NaN     NaN  \n",
       "\n",
       "[5 rows x 195 columns]"
      ]
     },
     "execution_count": 18,
     "metadata": {},
     "output_type": "execute_result"
    }
   ],
   "source": [
    "import seaborn as sns\n",
    "import sklearn as sk\n",
    "import pandas as pd\n",
    "import numpy as np\n",
    "import matplotlib.pyplot as plt\n",
    "from sklearn.model_selection import train_test_split #We need this to split the data\n",
    "from sklearn.metrics import classification_report\n",
    "from sklearn.metrics import confusion_matrix\n",
    "from sklearn.ensemble import RandomForestClassifier\n",
    "from sklearn.datasets import make_classification\n",
    "from sklearn import metrics\n",
    "\n",
    "\n",
    "df = pd.read_csv('speed_dating_data.csv', encoding=\"ISO-8859-1\") #encoding to prevent errors while importing\n",
    "df.head()\n",
    "\n"
   ]
  },
  {
   "cell_type": "markdown",
   "id": "cd25c9c4",
   "metadata": {},
   "source": [
    "# 2. Data Cleaning"
   ]
  },
  {
   "cell_type": "markdown",
   "id": "cf2fc6ed",
   "metadata": {},
   "source": [
    "### 2.1 inspect data frames"
   ]
  },
  {
   "cell_type": "code",
   "execution_count": 19,
   "id": "6918806c",
   "metadata": {},
   "outputs": [
    {
     "data": {
      "text/plain": [
       "(8378, 195)"
      ]
     },
     "execution_count": 19,
     "metadata": {},
     "output_type": "execute_result"
    }
   ],
   "source": [
    "df.shape #inspect features/rows\n"
   ]
  },
  {
   "cell_type": "markdown",
   "id": "6b0a5781",
   "metadata": {},
   "source": [
    "This data set has 195 features which we are going to subset for better handling"
   ]
  },
  {
   "cell_type": "code",
   "execution_count": 20,
   "id": "5f9642b3",
   "metadata": {},
   "outputs": [
    {
     "name": "stdout",
     "output_type": "stream",
     "text": [
      "<class 'pandas.core.frame.DataFrame'>\n",
      "RangeIndex: 8378 entries, 0 to 8377\n",
      "Columns: 195 entries, iid to amb5_3\n",
      "dtypes: float64(174), int64(13), object(8)\n",
      "memory usage: 12.5+ MB\n"
     ]
    }
   ],
   "source": [
    "df.info()"
   ]
  },
  {
   "cell_type": "markdown",
   "id": "a7358543",
   "metadata": {},
   "source": [
    "### 2.2 investigating focus features\n",
    "\n",
    "We will focus on 7 features that intuitively determine if a partner likes you or not"
   ]
  },
  {
   "cell_type": "code",
   "execution_count": 21,
   "id": "43a3dee9",
   "metadata": {},
   "outputs": [
    {
     "data": {
      "text/html": [
       "<div>\n",
       "<style scoped>\n",
       "    .dataframe tbody tr th:only-of-type {\n",
       "        vertical-align: middle;\n",
       "    }\n",
       "\n",
       "    .dataframe tbody tr th {\n",
       "        vertical-align: top;\n",
       "    }\n",
       "\n",
       "    .dataframe thead th {\n",
       "        text-align: right;\n",
       "    }\n",
       "</style>\n",
       "<table border=\"1\" class=\"dataframe\">\n",
       "  <thead>\n",
       "    <tr style=\"text-align: right;\">\n",
       "      <th></th>\n",
       "      <th>gender</th>\n",
       "      <th>iid</th>\n",
       "    </tr>\n",
       "  </thead>\n",
       "  <tbody>\n",
       "    <tr>\n",
       "      <th>0</th>\n",
       "      <td>0</td>\n",
       "      <td>4184</td>\n",
       "    </tr>\n",
       "    <tr>\n",
       "      <th>1</th>\n",
       "      <td>1</td>\n",
       "      <td>4194</td>\n",
       "    </tr>\n",
       "  </tbody>\n",
       "</table>\n",
       "</div>"
      ],
      "text/plain": [
       "   gender   iid\n",
       "0       0  4184\n",
       "1       1  4194"
      ]
     },
     "execution_count": 21,
     "metadata": {},
     "output_type": "execute_result"
    }
   ],
   "source": [
    "df.groupby(['gender'])['iid'].count().reset_index()"
   ]
  },
  {
   "cell_type": "markdown",
   "id": "84acd24a",
   "metadata": {},
   "source": [
    "Our dataset contains about 50/50 males and females. From the documentation it seems that all participants were heterosexual (? not sure, but several questions begin with 'what are you looking for in the opposite sex). If this assumption holds, it is likely that gender is a good prediction for liking somebody. "
   ]
  },
  {
   "cell_type": "code",
   "execution_count": 22,
   "id": "210ac699",
   "metadata": {},
   "outputs": [
    {
     "data": {
      "text/plain": [
       "count    8274.000000\n",
       "mean       26.364999\n",
       "std         3.563648\n",
       "min        18.000000\n",
       "25%        24.000000\n",
       "50%        26.000000\n",
       "75%        28.000000\n",
       "max        55.000000\n",
       "Name: age_o, dtype: float64"
      ]
     },
     "execution_count": 22,
     "metadata": {},
     "output_type": "execute_result"
    }
   ],
   "source": [
    "df['age_o'].describe()"
   ]
  },
  {
   "cell_type": "markdown",
   "id": "ff1f361b",
   "metadata": {},
   "source": [
    "Most people will likely seek somebody in their own age range. Age is a float variable between 18 and 55, but it seems the largest part is relatively young (in their twenties)."
   ]
  },
  {
   "cell_type": "markdown",
   "id": "cc0db862",
   "metadata": {},
   "source": [
    "Now, do we care about **money** ? Let's include _income_ just to be sure. \n"
   ]
  },
  {
   "cell_type": "code",
   "execution_count": 23,
   "id": "a1d1cd76",
   "metadata": {},
   "outputs": [
    {
     "data": {
      "text/plain": [
       "4099"
      ]
     },
     "execution_count": 23,
     "metadata": {},
     "output_type": "execute_result"
    }
   ],
   "source": [
    "df['income'].isnull().sum()"
   ]
  },
  {
   "cell_type": "markdown",
   "id": "1e4d08f5",
   "metadata": {},
   "source": [
    "Okay, let's not do that, since we have a lot of missing values there."
   ]
  },
  {
   "cell_type": "code",
   "execution_count": 24,
   "id": "f57bc8ee",
   "metadata": {},
   "outputs": [
    {
     "data": {
      "image/png": "[encoded data removed]",
      "text/plain": [
       "<Figure size 432x288 with 1 Axes>"
      ]
     },
     "metadata": {
      "needs_background": "light"
     },
     "output_type": "display_data"
    }
   ],
   "source": [
    "sns.histplot(df['race_o'].dropna(), kde=False) \n",
    "plt.title('Race')\n",
    "plt.xlabel('Race')\n",
    "plt.show()"
   ]
  },
  {
   "cell_type": "markdown",
   "id": "ccf25177",
   "metadata": {},
   "source": [
    "\tBlack/African American=1\n",
    "\tEuropean/Caucasian-American=2\n",
    "\tLatino/Hispanic American=3\n",
    "\tAsian/Pacific Islander/Asian-American=4\n",
    "\tNative American=5\n",
    "\tOther=6\n",
    "\n",
    "This dataset contains of mostly caucasian and asian participants. \n",
    "\n",
    "Next we investigate if this matters for people with the variable -->\n",
    "imprace:\n",
    "How important is it to you (on a scale of 1-10) that a person you date be of the same racial/ethnic background?\n"
   ]
  },
  {
   "cell_type": "code",
   "execution_count": 25,
   "id": "de001819",
   "metadata": {},
   "outputs": [
    {
     "data": {
      "image/png": "[encoded data removed]",
      "text/plain": [
       "<Figure size 432x288 with 1 Axes>"
      ]
     },
     "metadata": {
      "needs_background": "light"
     },
     "output_type": "display_data"
    }
   ],
   "source": [
    "sns.histplot(df['imprace'].dropna(), kde=False) \n",
    "plt.title('how important is it that your partner is of the same race?')\n",
    "plt.xlabel('Race')\n",
    "plt.show()"
   ]
  },
  {
   "cell_type": "markdown",
   "id": "4a55afaf",
   "metadata": {},
   "source": [
    "It seems that it is not really that relevant for most people, but there is still a group that seems to care a lot and therefore might allow for better prediction (even if this intuition doesn't really feel good to add...)\n",
    "\n",
    "We use the dummy variable:\n",
    "samerace:  \tparticipant and the partner were the same race. 1= yes, 0=no"
   ]
  },
  {
   "cell_type": "markdown",
   "id": "8aa36f54",
   "metadata": {},
   "source": [
    "Most people care about the looks about their partners. The dataset uses an attraction attribute. We will first look at: \n",
    "*How do you think you measure up?*\n",
    "*Please rate your opinion of your own attributes, on a scale of 1-10 (be honest!):*\n",
    "*attr3_1*\n",
    "*Attractive*\n",
    "This is an self evaluated measure of attractiveness\n",
    "\n",
    "\n"
   ]
  },
  {
   "cell_type": "code",
   "execution_count": 26,
   "id": "886d547c",
   "metadata": {},
   "outputs": [
    {
     "data": {
      "image/png": "[encoded data removed]",
      "text/plain": [
       "<Figure size 432x288 with 1 Axes>"
      ]
     },
     "metadata": {
      "needs_background": "light"
     },
     "output_type": "display_data"
    }
   ],
   "source": [
    "sns.histplot(df['attr3_1'].dropna(), kde=False) \n",
    "plt.title('how attrictive do you think you are?')\n",
    "plt.xlabel('1-10 attractiveness rating')\n",
    "plt.show()"
   ]
  },
  {
   "cell_type": "markdown",
   "id": "fd991c89",
   "metadata": {},
   "source": [
    "However, it off course seems most important what the partner thinks of you, but we are not so shallow that only attractiveness matters. We therefore focus on several other attributes in the dataset that are ranked by the partner: \n",
    "- attractiveness\n",
    "- sincerity \n",
    "- intelligence\n",
    "- fun \n",
    "- ambitious \n",
    "- shared interests\n",
    "\n",
    "This is captured by the following variables:\n",
    "- attr_o\n",
    "- sinc_o\n",
    "- intel_o\n",
    "- fun_o\n",
    "- amb_o\n",
    "- share_o"
   ]
  },
  {
   "cell_type": "markdown",
   "id": "8368e810",
   "metadata": {},
   "source": [
    "### 2.3 subsetting dataset\n",
    "\n",
    "now subset the dataset on the previously narrowed down set of variables. (i've deliberately not chosen to include 'aggregate' variables such as 'how much do you like the partner' since this is likely very correlated with the decision and doesn't tell us something specifically about what makes it that you like someone.)"
   ]
  },
  {
   "cell_type": "code",
   "execution_count": 27,
   "id": "ddbe2817",
   "metadata": {},
   "outputs": [
    {
     "data": {
      "text/html": [
       "<div>\n",
       "<style scoped>\n",
       "    .dataframe tbody tr th:only-of-type {\n",
       "        vertical-align: middle;\n",
       "    }\n",
       "\n",
       "    .dataframe tbody tr th {\n",
       "        vertical-align: top;\n",
       "    }\n",
       "\n",
       "    .dataframe thead th {\n",
       "        text-align: right;\n",
       "    }\n",
       "</style>\n",
       "<table border=\"1\" class=\"dataframe\">\n",
       "  <thead>\n",
       "    <tr style=\"text-align: right;\">\n",
       "      <th></th>\n",
       "      <th>gender</th>\n",
       "      <th>age_o</th>\n",
       "      <th>samerace</th>\n",
       "      <th>attr3_1</th>\n",
       "      <th>attr_o</th>\n",
       "      <th>sinc_o</th>\n",
       "      <th>intel_o</th>\n",
       "      <th>fun_o</th>\n",
       "      <th>amb_o</th>\n",
       "      <th>shar_o</th>\n",
       "      <th>dec_o</th>\n",
       "    </tr>\n",
       "  </thead>\n",
       "  <tbody>\n",
       "    <tr>\n",
       "      <th>0</th>\n",
       "      <td>0</td>\n",
       "      <td>27.0</td>\n",
       "      <td>0</td>\n",
       "      <td>6.0</td>\n",
       "      <td>6.0</td>\n",
       "      <td>8.0</td>\n",
       "      <td>8.0</td>\n",
       "      <td>8.0</td>\n",
       "      <td>8.0</td>\n",
       "      <td>6.0</td>\n",
       "      <td>0</td>\n",
       "    </tr>\n",
       "    <tr>\n",
       "      <th>1</th>\n",
       "      <td>0</td>\n",
       "      <td>22.0</td>\n",
       "      <td>0</td>\n",
       "      <td>6.0</td>\n",
       "      <td>7.0</td>\n",
       "      <td>8.0</td>\n",
       "      <td>10.0</td>\n",
       "      <td>7.0</td>\n",
       "      <td>7.0</td>\n",
       "      <td>5.0</td>\n",
       "      <td>0</td>\n",
       "    </tr>\n",
       "    <tr>\n",
       "      <th>2</th>\n",
       "      <td>0</td>\n",
       "      <td>22.0</td>\n",
       "      <td>1</td>\n",
       "      <td>6.0</td>\n",
       "      <td>10.0</td>\n",
       "      <td>10.0</td>\n",
       "      <td>10.0</td>\n",
       "      <td>10.0</td>\n",
       "      <td>10.0</td>\n",
       "      <td>10.0</td>\n",
       "      <td>1</td>\n",
       "    </tr>\n",
       "    <tr>\n",
       "      <th>3</th>\n",
       "      <td>0</td>\n",
       "      <td>23.0</td>\n",
       "      <td>0</td>\n",
       "      <td>6.0</td>\n",
       "      <td>7.0</td>\n",
       "      <td>8.0</td>\n",
       "      <td>9.0</td>\n",
       "      <td>8.0</td>\n",
       "      <td>9.0</td>\n",
       "      <td>8.0</td>\n",
       "      <td>1</td>\n",
       "    </tr>\n",
       "    <tr>\n",
       "      <th>4</th>\n",
       "      <td>0</td>\n",
       "      <td>24.0</td>\n",
       "      <td>0</td>\n",
       "      <td>6.0</td>\n",
       "      <td>8.0</td>\n",
       "      <td>7.0</td>\n",
       "      <td>9.0</td>\n",
       "      <td>6.0</td>\n",
       "      <td>9.0</td>\n",
       "      <td>7.0</td>\n",
       "      <td>1</td>\n",
       "    </tr>\n",
       "  </tbody>\n",
       "</table>\n",
       "</div>"
      ],
      "text/plain": [
       "   gender  age_o  samerace  attr3_1  attr_o  sinc_o  intel_o  fun_o  amb_o  \\\n",
       "0       0   27.0         0      6.0     6.0     8.0      8.0    8.0    8.0   \n",
       "1       0   22.0         0      6.0     7.0     8.0     10.0    7.0    7.0   \n",
       "2       0   22.0         1      6.0    10.0    10.0     10.0   10.0   10.0   \n",
       "3       0   23.0         0      6.0     7.0     8.0      9.0    8.0    9.0   \n",
       "4       0   24.0         0      6.0     8.0     7.0      9.0    6.0    9.0   \n",
       "\n",
       "   shar_o  dec_o  \n",
       "0     6.0      0  \n",
       "1     5.0      0  \n",
       "2    10.0      1  \n",
       "3     8.0      1  \n",
       "4     7.0      1  "
      ]
     },
     "execution_count": 27,
     "metadata": {},
     "output_type": "execute_result"
    }
   ],
   "source": [
    "df = df[['gender', 'age_o', 'samerace', 'attr3_1', 'attr_o', 'sinc_o', 'intel_o', 'fun_o', 'amb_o', 'shar_o', 'dec_o']]\n",
    "df.head()"
   ]
  },
  {
   "cell_type": "code",
   "execution_count": 28,
   "id": "b96fd9d2",
   "metadata": {},
   "outputs": [
    {
     "data": {
      "text/plain": [
       "(6870, 11)"
      ]
     },
     "execution_count": 28,
     "metadata": {},
     "output_type": "execute_result"
    }
   ],
   "source": [
    "df=df.dropna()\n",
    "df.shape"
   ]
  },
  {
   "cell_type": "markdown",
   "id": "9a7209d6",
   "metadata": {},
   "source": [
    "We lose 8378-6870= **1492** observations after dropping the nans"
   ]
  },
  {
   "cell_type": "code",
   "execution_count": 29,
   "id": "2eaace76",
   "metadata": {},
   "outputs": [
    {
     "data": {
      "text/html": [
       "<div>\n",
       "<style scoped>\n",
       "    .dataframe tbody tr th:only-of-type {\n",
       "        vertical-align: middle;\n",
       "    }\n",
       "\n",
       "    .dataframe tbody tr th {\n",
       "        vertical-align: top;\n",
       "    }\n",
       "\n",
       "    .dataframe thead th {\n",
       "        text-align: right;\n",
       "    }\n",
       "</style>\n",
       "<table border=\"1\" class=\"dataframe\">\n",
       "  <thead>\n",
       "    <tr style=\"text-align: right;\">\n",
       "      <th></th>\n",
       "      <th>gender</th>\n",
       "      <th>age_o</th>\n",
       "      <th>samerace</th>\n",
       "      <th>attr3_1</th>\n",
       "      <th>attr_o</th>\n",
       "      <th>sinc_o</th>\n",
       "      <th>intel_o</th>\n",
       "      <th>fun_o</th>\n",
       "      <th>amb_o</th>\n",
       "      <th>shar_o</th>\n",
       "      <th>dec_o</th>\n",
       "    </tr>\n",
       "  </thead>\n",
       "  <tbody>\n",
       "    <tr>\n",
       "      <th>count</th>\n",
       "      <td>6870.000000</td>\n",
       "      <td>6870.000000</td>\n",
       "      <td>6870.000000</td>\n",
       "      <td>6870.000000</td>\n",
       "      <td>6870.000000</td>\n",
       "      <td>6870.000000</td>\n",
       "      <td>6870.000000</td>\n",
       "      <td>6870.000000</td>\n",
       "      <td>6870.000000</td>\n",
       "      <td>6870.000000</td>\n",
       "      <td>6870.000000</td>\n",
       "    </tr>\n",
       "    <tr>\n",
       "      <th>mean</th>\n",
       "      <td>0.491412</td>\n",
       "      <td>26.237263</td>\n",
       "      <td>0.397089</td>\n",
       "      <td>7.085007</td>\n",
       "      <td>6.182300</td>\n",
       "      <td>7.155895</td>\n",
       "      <td>7.349782</td>\n",
       "      <td>6.393159</td>\n",
       "      <td>6.750582</td>\n",
       "      <td>5.454512</td>\n",
       "      <td>0.430713</td>\n",
       "    </tr>\n",
       "    <tr>\n",
       "      <th>std</th>\n",
       "      <td>0.499963</td>\n",
       "      <td>3.464002</td>\n",
       "      <td>0.489330</td>\n",
       "      <td>1.401201</td>\n",
       "      <td>1.953274</td>\n",
       "      <td>1.749739</td>\n",
       "      <td>1.561240</td>\n",
       "      <td>1.957106</td>\n",
       "      <td>1.799163</td>\n",
       "      <td>2.147665</td>\n",
       "      <td>0.495212</td>\n",
       "    </tr>\n",
       "    <tr>\n",
       "      <th>min</th>\n",
       "      <td>0.000000</td>\n",
       "      <td>18.000000</td>\n",
       "      <td>0.000000</td>\n",
       "      <td>2.000000</td>\n",
       "      <td>0.000000</td>\n",
       "      <td>0.000000</td>\n",
       "      <td>0.000000</td>\n",
       "      <td>0.000000</td>\n",
       "      <td>0.000000</td>\n",
       "      <td>0.000000</td>\n",
       "      <td>0.000000</td>\n",
       "    </tr>\n",
       "    <tr>\n",
       "      <th>25%</th>\n",
       "      <td>0.000000</td>\n",
       "      <td>24.000000</td>\n",
       "      <td>0.000000</td>\n",
       "      <td>6.000000</td>\n",
       "      <td>5.000000</td>\n",
       "      <td>6.000000</td>\n",
       "      <td>6.000000</td>\n",
       "      <td>5.000000</td>\n",
       "      <td>6.000000</td>\n",
       "      <td>4.000000</td>\n",
       "      <td>0.000000</td>\n",
       "    </tr>\n",
       "    <tr>\n",
       "      <th>50%</th>\n",
       "      <td>0.000000</td>\n",
       "      <td>26.000000</td>\n",
       "      <td>0.000000</td>\n",
       "      <td>7.000000</td>\n",
       "      <td>6.000000</td>\n",
       "      <td>7.000000</td>\n",
       "      <td>7.000000</td>\n",
       "      <td>7.000000</td>\n",
       "      <td>7.000000</td>\n",
       "      <td>6.000000</td>\n",
       "      <td>0.000000</td>\n",
       "    </tr>\n",
       "    <tr>\n",
       "      <th>75%</th>\n",
       "      <td>1.000000</td>\n",
       "      <td>28.000000</td>\n",
       "      <td>1.000000</td>\n",
       "      <td>8.000000</td>\n",
       "      <td>8.000000</td>\n",
       "      <td>8.000000</td>\n",
       "      <td>8.000000</td>\n",
       "      <td>8.000000</td>\n",
       "      <td>8.000000</td>\n",
       "      <td>7.000000</td>\n",
       "      <td>1.000000</td>\n",
       "    </tr>\n",
       "    <tr>\n",
       "      <th>max</th>\n",
       "      <td>1.000000</td>\n",
       "      <td>55.000000</td>\n",
       "      <td>1.000000</td>\n",
       "      <td>10.000000</td>\n",
       "      <td>10.000000</td>\n",
       "      <td>10.000000</td>\n",
       "      <td>10.000000</td>\n",
       "      <td>11.000000</td>\n",
       "      <td>10.000000</td>\n",
       "      <td>10.000000</td>\n",
       "      <td>1.000000</td>\n",
       "    </tr>\n",
       "  </tbody>\n",
       "</table>\n",
       "</div>"
      ],
      "text/plain": [
       "            gender        age_o     samerace      attr3_1       attr_o  \\\n",
       "count  6870.000000  6870.000000  6870.000000  6870.000000  6870.000000   \n",
       "mean      0.491412    26.237263     0.397089     7.085007     6.182300   \n",
       "std       0.499963     3.464002     0.489330     1.401201     1.953274   \n",
       "min       0.000000    18.000000     0.000000     2.000000     0.000000   \n",
       "25%       0.000000    24.000000     0.000000     6.000000     5.000000   \n",
       "50%       0.000000    26.000000     0.000000     7.000000     6.000000   \n",
       "75%       1.000000    28.000000     1.000000     8.000000     8.000000   \n",
       "max       1.000000    55.000000     1.000000    10.000000    10.000000   \n",
       "\n",
       "            sinc_o      intel_o        fun_o        amb_o       shar_o  \\\n",
       "count  6870.000000  6870.000000  6870.000000  6870.000000  6870.000000   \n",
       "mean      7.155895     7.349782     6.393159     6.750582     5.454512   \n",
       "std       1.749739     1.561240     1.957106     1.799163     2.147665   \n",
       "min       0.000000     0.000000     0.000000     0.000000     0.000000   \n",
       "25%       6.000000     6.000000     5.000000     6.000000     4.000000   \n",
       "50%       7.000000     7.000000     7.000000     7.000000     6.000000   \n",
       "75%       8.000000     8.000000     8.000000     8.000000     7.000000   \n",
       "max      10.000000    10.000000    11.000000    10.000000    10.000000   \n",
       "\n",
       "             dec_o  \n",
       "count  6870.000000  \n",
       "mean      0.430713  \n",
       "std       0.495212  \n",
       "min       0.000000  \n",
       "25%       0.000000  \n",
       "50%       0.000000  \n",
       "75%       1.000000  \n",
       "max       1.000000  "
      ]
     },
     "execution_count": 29,
     "metadata": {},
     "output_type": "execute_result"
    }
   ],
   "source": [
    "df.describe()"
   ]
  },
  {
   "cell_type": "markdown",
   "id": "047c1b2f",
   "metadata": {},
   "source": [
    "All subsetted variables seem correct without any weird outliers in things like age. The variables gender and samerace are always 0/1, but the other variables don't always follow a 1-10 scale like in the survey. This means the 0 values are incorrect so we will exclude those."
   ]
  },
  {
   "cell_type": "code",
   "execution_count": 30,
   "id": "74984c3b",
   "metadata": {},
   "outputs": [],
   "source": [
    "df = df[(df['sinc_o'] > 0)] #exclude 0 variables\n",
    "df = df[(df['intel_o'] > 0)] #exclude 0 variables\n",
    "df = df[(df['fun_o'] > 0)] #exclude 0 variables\n",
    "df = df[(df['amb_o'] > 0)] #exclude 0 variables\n",
    "df = df[(df['shar_o'] > 0)] #exclude 0 variables\n",
    "df = df[(df['attr_o'] > 0)] #exclude 0 variables\n"
   ]
  },
  {
   "cell_type": "markdown",
   "id": "111cfe40",
   "metadata": {},
   "source": [
    "**Our finale dataset consists of 6806 logical observations**"
   ]
  },
  {
   "cell_type": "markdown",
   "id": "936817c5",
   "metadata": {},
   "source": [
    "# 3. Exploratory Analysis"
   ]
  },
  {
   "cell_type": "markdown",
   "id": "60cc50bf",
   "metadata": {},
   "source": [
    "### 3.1 heatmap"
   ]
  },
  {
   "cell_type": "code",
   "execution_count": 31,
   "id": "627f938b",
   "metadata": {},
   "outputs": [
    {
     "data": {
      "image/png": "[encoded data removed]",
      "text/plain": [
       "<Figure size 432x288 with 2 Axes>"
      ]
     },
     "metadata": {
      "needs_background": "light"
     },
     "output_type": "display_data"
    }
   ],
   "source": [
    "heatmap = sns.heatmap(df.corr(), vmin=-1, vmax=1, annot=False, cmap='BrBG')\n",
    "heatmap.set_title('Correlation Heatmap',);"
   ]
  },
  {
   "cell_type": "markdown",
   "id": "81b00b9c",
   "metadata": {},
   "source": [
    "we will look at the last row. It seems that the decision is mostly positively correlated with attractiveness, fun and shared interests.  Another interesting fact is that ambition is also correlated positively with gender. Indicating that males are more ambitious. Race and age don't seem to matter that much in our dataset. "
   ]
  },
  {
   "cell_type": "markdown",
   "id": "b664fe79",
   "metadata": {},
   "source": [
    "### 3.2 Box plot"
   ]
  },
  {
   "cell_type": "code",
   "execution_count": 32,
   "id": "208f016d",
   "metadata": {},
   "outputs": [
    {
     "data": {
      "text/plain": [
       "<seaborn.axisgrid.FacetGrid at 0x7f8971987400>"
      ]
     },
     "execution_count": 32,
     "metadata": {},
     "output_type": "execute_result"
    },
    {
     "data": {
      "image/png": "[encoded data removed]",
      "text/plain": [
       "<Figure size 360x360 with 1 Axes>"
      ]
     },
     "metadata": {
      "needs_background": "light"
     },
     "output_type": "display_data"
    }
   ],
   "source": [
    "sns.catplot(x=\"dec_o\", y=\"attr_o\", kind=\"box\", data=df)"
   ]
  },
  {
   "cell_type": "markdown",
   "id": "4344ca6e",
   "metadata": {},
   "source": [
    "Our distribution indeed shows that when people like the other person they generally also find them more attractive and never really unattractive (1)"
   ]
  },
  {
   "cell_type": "code",
   "execution_count": 33,
   "id": "f952bf05",
   "metadata": {},
   "outputs": [
    {
     "data": {
      "text/plain": [
       "<seaborn.axisgrid.FacetGrid at 0x7f8990756340>"
      ]
     },
     "execution_count": 33,
     "metadata": {},
     "output_type": "execute_result"
    },
    {
     "data": {
      "image/png": "[encoded data removed]",
      "text/plain": [
       "<Figure size 360x360 with 1 Axes>"
      ]
     },
     "metadata": {
      "needs_background": "light"
     },
     "output_type": "display_data"
    }
   ],
   "source": [
    "sns.catplot(x=\"dec_o\", y=\"fun_o\", kind=\"box\", data=df)"
   ]
  },
  {
   "cell_type": "markdown",
   "id": "e5faa084",
   "metadata": {},
   "source": [
    "We find similar results for the other person being funny, but they are closer together. this indicates that being fun alone is not important enough to like somebody. It is therefore a good decision to include multiple attributes"
   ]
  },
  {
   "cell_type": "markdown",
   "id": "3829554b",
   "metadata": {},
   "source": [
    "# 4. Predictive model\n",
    "\n",
    "the chosen model is random forest. It works by creating multiple decisions trees and then the outcome is based on what most trees decide upon. "
   ]
  },
  {
   "cell_type": "code",
   "execution_count": 35,
   "id": "170e6062",
   "metadata": {},
   "outputs": [],
   "source": [
    "#preparing the model\n",
    "X = df.loc[:, 'gender':'shar_o']\n",
    "y = df['dec_o'] #create the y-variable\n",
    "X_train, X_test, y_train, y_test = train_test_split(X, y, test_size=0.3, random_state=1) #split the data, store it into different variables"
   ]
  },
  {
   "cell_type": "code",
   "execution_count": 36,
   "id": "c7794107",
   "metadata": {},
   "outputs": [],
   "source": [
    "clf=RandomForestClassifier(n_estimators=100) #100, 500, 3000\n",
    "\n",
    "#Train the model using the training sets y_pred=clf.predict(X_test)\n",
    "clf.fit(X_train,y_train)\n",
    "\n",
    "y_pred=clf.predict(X_test)"
   ]
  },
  {
   "cell_type": "markdown",
   "id": "010cf578",
   "metadata": {},
   "source": [
    "# 5. Evaluation"
   ]
  },
  {
   "cell_type": "code",
   "execution_count": 37,
   "id": "c7824052",
   "metadata": {},
   "outputs": [
    {
     "name": "stdout",
     "output_type": "stream",
     "text": [
      "Accuracy: 0.757590597453477\n"
     ]
    }
   ],
   "source": [
    "# Model Accuracy, how often is the classifier correct?\n",
    "print(\"Accuracy:\",metrics.accuracy_score(y_test, y_pred))"
   ]
  },
  {
   "cell_type": "markdown",
   "id": "16d6528b",
   "metadata": {},
   "source": [
    "The model is able to predict 75% of the outcomes in the test data set correctly"
   ]
  },
  {
   "cell_type": "code",
   "execution_count": 39,
   "id": "fc027d95",
   "metadata": {},
   "outputs": [
    {
     "data": {
      "text/html": [
       "<div>\n",
       "<style scoped>\n",
       "    .dataframe tbody tr th:only-of-type {\n",
       "        vertical-align: middle;\n",
       "    }\n",
       "\n",
       "    .dataframe tbody tr th {\n",
       "        vertical-align: top;\n",
       "    }\n",
       "\n",
       "    .dataframe thead th {\n",
       "        text-align: right;\n",
       "    }\n",
       "</style>\n",
       "<table border=\"1\" class=\"dataframe\">\n",
       "  <thead>\n",
       "    <tr style=\"text-align: right;\">\n",
       "      <th></th>\n",
       "      <th>No Date Predicted</th>\n",
       "      <th>Date Predicted</th>\n",
       "    </tr>\n",
       "  </thead>\n",
       "  <tbody>\n",
       "    <tr>\n",
       "      <th>No Date</th>\n",
       "      <td>949</td>\n",
       "      <td>211</td>\n",
       "    </tr>\n",
       "    <tr>\n",
       "      <th>Date</th>\n",
       "      <td>284</td>\n",
       "      <td>598</td>\n",
       "    </tr>\n",
       "  </tbody>\n",
       "</table>\n",
       "</div>"
      ],
      "text/plain": [
       "         No Date Predicted  Date Predicted\n",
       "No Date                949             211\n",
       "Date                   284             598"
      ]
     },
     "execution_count": 39,
     "metadata": {},
     "output_type": "execute_result"
    }
   ],
   "source": [
    "#Confusion Matrix\n",
    "cm = confusion_matrix(y_test, y_pred) #creates a \"confusion matrix\"\n",
    "\n",
    "#In order to read it easily , let's make a dataframe out of it, and add labels to it.\n",
    "conf_matrix = pd.DataFrame(cm, index=['No Date', 'Date',], columns = ['No Date Predicted', 'Date Predicted']) \n",
    "conf_matrix"
   ]
  },
  {
   "cell_type": "markdown",
   "id": "e7df824e",
   "metadata": {},
   "source": [
    "- $$Accuracy \\\\ = 949 + 598 / 949 + 598 + 211 + 284 = 1574 / 2042 = 77 (not correct somehow)$$\n",
    "- $$ Precision date \\\\ = 598 / 598 + 211 = 598 / 809 = 0,74$$\n",
    "- $$Recall date \\\\ = 598 / 882 = 0,68$$"
   ]
  },
  {
   "cell_type": "code",
   "execution_count": 40,
   "id": "f3274dcf",
   "metadata": {},
   "outputs": [
    {
     "name": "stdout",
     "output_type": "stream",
     "text": [
      "              precision    recall  f1-score   support\n",
      "\n",
      "           0       0.77      0.82      0.79      1160\n",
      "           1       0.74      0.68      0.71       882\n",
      "\n",
      "    accuracy                           0.76      2042\n",
      "   macro avg       0.75      0.75      0.75      2042\n",
      "weighted avg       0.76      0.76      0.76      2042\n",
      "\n"
     ]
    }
   ],
   "source": [
    "#build in function for precision recall used to check my calculations above\n",
    "print(classification_report(y_test,y_pred))"
   ]
  },
  {
   "cell_type": "markdown",
   "id": "e8d11ee4",
   "metadata": {},
   "source": [
    "The precision of 0,74 means that in 74% of all predicted dates it actually is a date (or match/1). This is reasonable with just 7 variables, but I would have guess better results with clear variables like 'attraction, humor etc'.\n",
    "\n",
    "The recall is lower with 0,68. This means that of all actual dates only 68% was predicted as an actual date. "
   ]
  },
  {
   "cell_type": "markdown",
   "id": "77fa0919",
   "metadata": {},
   "source": [
    "# 6. Conclusion"
   ]
  },
  {
   "cell_type": "markdown",
   "id": "31b5fdc6",
   "metadata": {},
   "source": [
    "Our model is not as good in predicting if the other person likes the person it dates as i thought it would. We include 'clear' variables such as attraction scores, humor etc. I guess this would have been sufficient, but apparently people are more complicated than 7 likert scale questions. ;) "
   ]
  }
 ],
 "metadata": {
  "kernelspec": {
   "display_name": "Python 3",
   "language": "python",
   "name": "python3"
  },
  "language_info": {
   "codemirror_mode": {
    "name": "ipython",
    "version": 3
   },
   "file_extension": ".py",
   "mimetype": "text/x-python",
   "name": "python",
   "nbconvert_exporter": "python",
   "pygments_lexer": "ipython3",
   "version": "3.9.7"
  }
 },
 "nbformat": 4,
 "nbformat_minor": 5
}
